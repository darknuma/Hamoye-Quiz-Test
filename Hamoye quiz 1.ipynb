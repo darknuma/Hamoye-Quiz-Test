{
 "cells": [
  {
   "cell_type": "code",
   "execution_count": 1,
   "id": "56f57e96",
   "metadata": {},
   "outputs": [],
   "source": [
    "import pandas as pd\n",
    "import numpy as np"
   ]
  },
  {
   "cell_type": "code",
   "execution_count": 2,
   "id": "96353e5b",
   "metadata": {},
   "outputs": [],
   "source": [
    "df = pd.read_csv('FoodBalanceSheets_E_Africa_NOFLAG.csv')"
   ]
  },
  {
   "cell_type": "code",
   "execution_count": 3,
   "id": "50ff80ba",
   "metadata": {},
   "outputs": [
    {
     "data": {
      "text/html": [
       "<div>\n",
       "<style scoped>\n",
       "    .dataframe tbody tr th:only-of-type {\n",
       "        vertical-align: middle;\n",
       "    }\n",
       "\n",
       "    .dataframe tbody tr th {\n",
       "        vertical-align: top;\n",
       "    }\n",
       "\n",
       "    .dataframe thead th {\n",
       "        text-align: right;\n",
       "    }\n",
       "</style>\n",
       "<table border=\"1\" class=\"dataframe\">\n",
       "  <thead>\n",
       "    <tr style=\"text-align: right;\">\n",
       "      <th></th>\n",
       "      <th>Area Code</th>\n",
       "      <th>Area</th>\n",
       "      <th>Item Code</th>\n",
       "      <th>Item</th>\n",
       "      <th>Element Code</th>\n",
       "      <th>Element</th>\n",
       "      <th>Unit</th>\n",
       "      <th>Y2014</th>\n",
       "      <th>Y2015</th>\n",
       "      <th>Y2016</th>\n",
       "      <th>Y2017</th>\n",
       "      <th>Y2018</th>\n",
       "    </tr>\n",
       "  </thead>\n",
       "  <tbody>\n",
       "    <tr>\n",
       "      <th>0</th>\n",
       "      <td>4</td>\n",
       "      <td>Algeria</td>\n",
       "      <td>2501</td>\n",
       "      <td>Population</td>\n",
       "      <td>511</td>\n",
       "      <td>Total Population - Both sexes</td>\n",
       "      <td>1000 persons</td>\n",
       "      <td>38924.00</td>\n",
       "      <td>39728.00</td>\n",
       "      <td>40551.00</td>\n",
       "      <td>41389.00</td>\n",
       "      <td>42228.00</td>\n",
       "    </tr>\n",
       "    <tr>\n",
       "      <th>1</th>\n",
       "      <td>4</td>\n",
       "      <td>Algeria</td>\n",
       "      <td>2501</td>\n",
       "      <td>Population</td>\n",
       "      <td>5301</td>\n",
       "      <td>Domestic supply quantity</td>\n",
       "      <td>1000 tonnes</td>\n",
       "      <td>0.00</td>\n",
       "      <td>0.00</td>\n",
       "      <td>0.00</td>\n",
       "      <td>0.00</td>\n",
       "      <td>0.00</td>\n",
       "    </tr>\n",
       "    <tr>\n",
       "      <th>2</th>\n",
       "      <td>4</td>\n",
       "      <td>Algeria</td>\n",
       "      <td>2901</td>\n",
       "      <td>Grand Total</td>\n",
       "      <td>664</td>\n",
       "      <td>Food supply (kcal/capita/day)</td>\n",
       "      <td>kcal/capita/day</td>\n",
       "      <td>3377.00</td>\n",
       "      <td>3379.00</td>\n",
       "      <td>3372.00</td>\n",
       "      <td>3341.00</td>\n",
       "      <td>3322.00</td>\n",
       "    </tr>\n",
       "    <tr>\n",
       "      <th>3</th>\n",
       "      <td>4</td>\n",
       "      <td>Algeria</td>\n",
       "      <td>2901</td>\n",
       "      <td>Grand Total</td>\n",
       "      <td>674</td>\n",
       "      <td>Protein supply quantity (g/capita/day)</td>\n",
       "      <td>g/capita/day</td>\n",
       "      <td>94.90</td>\n",
       "      <td>94.35</td>\n",
       "      <td>94.72</td>\n",
       "      <td>92.82</td>\n",
       "      <td>91.83</td>\n",
       "    </tr>\n",
       "    <tr>\n",
       "      <th>4</th>\n",
       "      <td>4</td>\n",
       "      <td>Algeria</td>\n",
       "      <td>2901</td>\n",
       "      <td>Grand Total</td>\n",
       "      <td>684</td>\n",
       "      <td>Fat supply quantity (g/capita/day)</td>\n",
       "      <td>g/capita/day</td>\n",
       "      <td>80.06</td>\n",
       "      <td>79.36</td>\n",
       "      <td>77.40</td>\n",
       "      <td>80.19</td>\n",
       "      <td>77.28</td>\n",
       "    </tr>\n",
       "  </tbody>\n",
       "</table>\n",
       "</div>"
      ],
      "text/plain": [
       "   Area Code     Area  Item Code         Item  Element Code  \\\n",
       "0          4  Algeria       2501   Population           511   \n",
       "1          4  Algeria       2501   Population          5301   \n",
       "2          4  Algeria       2901  Grand Total           664   \n",
       "3          4  Algeria       2901  Grand Total           674   \n",
       "4          4  Algeria       2901  Grand Total           684   \n",
       "\n",
       "                                  Element             Unit     Y2014  \\\n",
       "0           Total Population - Both sexes     1000 persons  38924.00   \n",
       "1                Domestic supply quantity      1000 tonnes      0.00   \n",
       "2           Food supply (kcal/capita/day)  kcal/capita/day   3377.00   \n",
       "3  Protein supply quantity (g/capita/day)     g/capita/day     94.90   \n",
       "4      Fat supply quantity (g/capita/day)     g/capita/day     80.06   \n",
       "\n",
       "      Y2015     Y2016     Y2017     Y2018  \n",
       "0  39728.00  40551.00  41389.00  42228.00  \n",
       "1      0.00      0.00      0.00      0.00  \n",
       "2   3379.00   3372.00   3341.00   3322.00  \n",
       "3     94.35     94.72     92.82     91.83  \n",
       "4     79.36     77.40     80.19     77.28  "
      ]
     },
     "execution_count": 3,
     "metadata": {},
     "output_type": "execute_result"
    }
   ],
   "source": [
    "df.head()"
   ]
  },
  {
   "cell_type": "code",
   "execution_count": 4,
   "id": "400fe0d0",
   "metadata": {},
   "outputs": [
    {
     "data": {
      "text/plain": [
       "Area Code          0\n",
       "Area               0\n",
       "Item Code          0\n",
       "Item               0\n",
       "Element Code       0\n",
       "Element            0\n",
       "Unit               0\n",
       "Y2014           1589\n",
       "Y2015           1548\n",
       "Y2016           1535\n",
       "Y2017           1506\n",
       "Y2018           1436\n",
       "dtype: int64"
      ]
     },
     "execution_count": 4,
     "metadata": {},
     "output_type": "execute_result"
    }
   ],
   "source": [
    "df.isnull().sum()"
   ]
  },
  {
   "cell_type": "code",
   "execution_count": 16,
   "id": "f1932216",
   "metadata": {},
   "outputs": [],
   "source": [
    "liss = df['Area'].unique()"
   ]
  },
  {
   "cell_type": "code",
   "execution_count": 17,
   "id": "3a2243e2",
   "metadata": {},
   "outputs": [
    {
     "name": "stdout",
     "output_type": "stream",
     "text": [
      "1\n",
      "2\n",
      "3\n",
      "4\n",
      "5\n",
      "6\n",
      "7\n",
      "8\n",
      "9\n",
      "10\n",
      "11\n",
      "12\n",
      "13\n",
      "14\n",
      "15\n",
      "16\n",
      "17\n",
      "18\n",
      "19\n",
      "20\n",
      "21\n",
      "22\n",
      "23\n",
      "24\n",
      "25\n",
      "26\n",
      "27\n",
      "28\n",
      "29\n",
      "30\n",
      "31\n",
      "32\n",
      "33\n",
      "34\n",
      "35\n",
      "36\n",
      "37\n",
      "38\n",
      "39\n",
      "40\n",
      "41\n",
      "42\n",
      "43\n",
      "44\n",
      "45\n",
      "46\n",
      "47\n",
      "48\n",
      "49\n"
     ]
    }
   ],
   "source": [
    "count = 0\n",
    "for ls in liss:\n",
    "    count+=1\n",
    "    print(count)\n",
    "    "
   ]
  },
  {
   "cell_type": "code",
   "execution_count": 22,
   "id": "7116984e",
   "metadata": {},
   "outputs": [],
   "source": [
    "animal_fat = df.groupby('Y2015')"
   ]
  },
  {
   "cell_type": "code",
   "execution_count": 24,
   "id": "4f34b153",
   "metadata": {},
   "outputs": [
    {
     "data": {
      "text/html": [
       "<div>\n",
       "<style scoped>\n",
       "    .dataframe tbody tr th:only-of-type {\n",
       "        vertical-align: middle;\n",
       "    }\n",
       "\n",
       "    .dataframe tbody tr th {\n",
       "        vertical-align: top;\n",
       "    }\n",
       "\n",
       "    .dataframe thead th {\n",
       "        text-align: right;\n",
       "    }\n",
       "</style>\n",
       "<table border=\"1\" class=\"dataframe\">\n",
       "  <thead>\n",
       "    <tr style=\"text-align: right;\">\n",
       "      <th></th>\n",
       "      <th>Area Code</th>\n",
       "      <th>Item Code</th>\n",
       "      <th>Element Code</th>\n",
       "      <th>Y2014</th>\n",
       "      <th>Y2016</th>\n",
       "      <th>Y2017</th>\n",
       "      <th>Y2018</th>\n",
       "    </tr>\n",
       "    <tr>\n",
       "      <th>Y2015</th>\n",
       "      <th></th>\n",
       "      <th></th>\n",
       "      <th></th>\n",
       "      <th></th>\n",
       "      <th></th>\n",
       "      <th></th>\n",
       "      <th></th>\n",
       "    </tr>\n",
       "  </thead>\n",
       "  <tbody>\n",
       "    <tr>\n",
       "      <th>-3161.0</th>\n",
       "      <td>202.0</td>\n",
       "      <td>2905.0</td>\n",
       "      <td>5072.0</td>\n",
       "      <td>439.0</td>\n",
       "      <td>-1499.0</td>\n",
       "      <td>2665.0</td>\n",
       "      <td>-296.0</td>\n",
       "    </tr>\n",
       "    <tr>\n",
       "      <th>-2152.0</th>\n",
       "      <td>202.0</td>\n",
       "      <td>2514.0</td>\n",
       "      <td>5072.0</td>\n",
       "      <td>626.0</td>\n",
       "      <td>-1324.0</td>\n",
       "      <td>2555.0</td>\n",
       "      <td>-597.0</td>\n",
       "    </tr>\n",
       "    <tr>\n",
       "      <th>-1284.0</th>\n",
       "      <td>276.0</td>\n",
       "      <td>2905.0</td>\n",
       "      <td>5072.0</td>\n",
       "      <td>4569.0</td>\n",
       "      <td>3266.0</td>\n",
       "      <td>-607.0</td>\n",
       "      <td>1898.0</td>\n",
       "    </tr>\n",
       "    <tr>\n",
       "      <th>-907.0</th>\n",
       "      <td>251.0</td>\n",
       "      <td>2905.0</td>\n",
       "      <td>5072.0</td>\n",
       "      <td>520.0</td>\n",
       "      <td>-506.0</td>\n",
       "      <td>532.0</td>\n",
       "      <td>-529.0</td>\n",
       "    </tr>\n",
       "    <tr>\n",
       "      <th>-887.0</th>\n",
       "      <td>276.0</td>\n",
       "      <td>2518.0</td>\n",
       "      <td>5072.0</td>\n",
       "      <td>3134.0</td>\n",
       "      <td>2432.0</td>\n",
       "      <td>-819.0</td>\n",
       "      <td>163.0</td>\n",
       "    </tr>\n",
       "    <tr>\n",
       "      <th>...</th>\n",
       "      <td>...</td>\n",
       "      <td>...</td>\n",
       "      <td>...</td>\n",
       "      <td>...</td>\n",
       "      <td>...</td>\n",
       "      <td>...</td>\n",
       "      <td>...</td>\n",
       "    </tr>\n",
       "    <tr>\n",
       "      <th>92443.0</th>\n",
       "      <td>59.0</td>\n",
       "      <td>2501.0</td>\n",
       "      <td>511.0</td>\n",
       "      <td>90425.0</td>\n",
       "      <td>94447.0</td>\n",
       "      <td>96443.0</td>\n",
       "      <td>98424.0</td>\n",
       "    </tr>\n",
       "    <tr>\n",
       "      <th>100835.0</th>\n",
       "      <td>238.0</td>\n",
       "      <td>2501.0</td>\n",
       "      <td>511.0</td>\n",
       "      <td>98094.0</td>\n",
       "      <td>103603.0</td>\n",
       "      <td>106400.0</td>\n",
       "      <td>109224.0</td>\n",
       "    </tr>\n",
       "    <tr>\n",
       "      <th>110798.0</th>\n",
       "      <td>159.0</td>\n",
       "      <td>2907.0</td>\n",
       "      <td>5301.0</td>\n",
       "      <td>108756.0</td>\n",
       "      <td>116483.0</td>\n",
       "      <td>112625.0</td>\n",
       "      <td>117038.0</td>\n",
       "    </tr>\n",
       "    <tr>\n",
       "      <th>111663.0</th>\n",
       "      <td>159.0</td>\n",
       "      <td>2907.0</td>\n",
       "      <td>5511.0</td>\n",
       "      <td>109593.0</td>\n",
       "      <td>119330.0</td>\n",
       "      <td>117702.0</td>\n",
       "      <td>118172.0</td>\n",
       "    </tr>\n",
       "    <tr>\n",
       "      <th>181137.0</th>\n",
       "      <td>159.0</td>\n",
       "      <td>2501.0</td>\n",
       "      <td>511.0</td>\n",
       "      <td>176405.0</td>\n",
       "      <td>185960.0</td>\n",
       "      <td>190873.0</td>\n",
       "      <td>195875.0</td>\n",
       "    </tr>\n",
       "  </tbody>\n",
       "</table>\n",
       "<p>4520 rows × 7 columns</p>\n",
       "</div>"
      ],
      "text/plain": [
       "           Area Code  Item Code  Element Code     Y2014     Y2016     Y2017  \\\n",
       "Y2015                                                                         \n",
       "-3161.0        202.0     2905.0        5072.0     439.0   -1499.0    2665.0   \n",
       "-2152.0        202.0     2514.0        5072.0     626.0   -1324.0    2555.0   \n",
       "-1284.0        276.0     2905.0        5072.0    4569.0    3266.0    -607.0   \n",
       "-907.0         251.0     2905.0        5072.0     520.0    -506.0     532.0   \n",
       "-887.0         276.0     2518.0        5072.0    3134.0    2432.0    -819.0   \n",
       "...              ...        ...           ...       ...       ...       ...   \n",
       " 92443.0        59.0     2501.0         511.0   90425.0   94447.0   96443.0   \n",
       " 100835.0      238.0     2501.0         511.0   98094.0  103603.0  106400.0   \n",
       " 110798.0      159.0     2907.0        5301.0  108756.0  116483.0  112625.0   \n",
       " 111663.0      159.0     2907.0        5511.0  109593.0  119330.0  117702.0   \n",
       " 181137.0      159.0     2501.0         511.0  176405.0  185960.0  190873.0   \n",
       "\n",
       "              Y2018  \n",
       "Y2015                \n",
       "-3161.0      -296.0  \n",
       "-2152.0      -597.0  \n",
       "-1284.0      1898.0  \n",
       "-907.0       -529.0  \n",
       "-887.0        163.0  \n",
       "...             ...  \n",
       " 92443.0    98424.0  \n",
       " 100835.0  109224.0  \n",
       " 110798.0  117038.0  \n",
       " 111663.0  118172.0  \n",
       " 181137.0  195875.0  \n",
       "\n",
       "[4520 rows x 7 columns]"
      ]
     },
     "execution_count": 24,
     "metadata": {},
     "output_type": "execute_result"
    }
   ],
   "source": [
    "animal_fat.agg('mean', 'std')"
   ]
  },
  {
   "cell_type": "code",
   "execution_count": 26,
   "id": "8848f56a",
   "metadata": {},
   "outputs": [],
   "source": [
    "answer12 = df['Y2015'].mean()"
   ]
  },
  {
   "cell_type": "code",
   "execution_count": 29,
   "id": "00fc8872",
   "metadata": {},
   "outputs": [
    {
     "name": "stdout",
     "output_type": "stream",
     "text": [
      "135.236\n"
     ]
    }
   ],
   "source": [
    "\n",
    "print(round(answer12, 3))"
   ]
  },
  {
   "cell_type": "code",
   "execution_count": 30,
   "id": "ef62914a",
   "metadata": {},
   "outputs": [],
   "source": [
    "answer12b = df['Y2015'].std()"
   ]
  },
  {
   "cell_type": "code",
   "execution_count": 31,
   "id": "c11d809b",
   "metadata": {},
   "outputs": [
    {
     "data": {
      "text/plain": [
       "1603.404"
      ]
     },
     "execution_count": 31,
     "metadata": {},
     "output_type": "execute_result"
    }
   ],
   "source": [
    "round(answer12b, 3)"
   ]
  },
  {
   "cell_type": "code",
   "execution_count": 37,
   "id": "b383d0d8",
   "metadata": {},
   "outputs": [
    {
     "data": {
      "text/plain": [
       "2.52"
      ]
     },
     "execution_count": 37,
     "metadata": {},
     "output_type": "execute_result"
    }
   ],
   "source": [
    "answer13 = df['Y2016'].isnull().sum() * 100 / len(df)\n",
    "round(answer13, 2)"
   ]
  },
  {
   "cell_type": "code",
   "execution_count": 39,
   "id": "51bb0386",
   "metadata": {},
   "outputs": [
    {
     "data": {
      "text/html": [
       "<div>\n",
       "<style scoped>\n",
       "    .dataframe tbody tr th:only-of-type {\n",
       "        vertical-align: middle;\n",
       "    }\n",
       "\n",
       "    .dataframe tbody tr th {\n",
       "        vertical-align: top;\n",
       "    }\n",
       "\n",
       "    .dataframe thead th {\n",
       "        text-align: right;\n",
       "    }\n",
       "</style>\n",
       "<table border=\"1\" class=\"dataframe\">\n",
       "  <thead>\n",
       "    <tr style=\"text-align: right;\">\n",
       "      <th></th>\n",
       "      <th>Area Code</th>\n",
       "      <th>Item Code</th>\n",
       "      <th>Element Code</th>\n",
       "      <th>Y2014</th>\n",
       "      <th>Y2015</th>\n",
       "      <th>Y2016</th>\n",
       "      <th>Y2017</th>\n",
       "      <th>Y2018</th>\n",
       "    </tr>\n",
       "  </thead>\n",
       "  <tbody>\n",
       "    <tr>\n",
       "      <th>count</th>\n",
       "      <td>60943.000000</td>\n",
       "      <td>60943.000000</td>\n",
       "      <td>60943.000000</td>\n",
       "      <td>59354.000000</td>\n",
       "      <td>59395.000000</td>\n",
       "      <td>59408.000000</td>\n",
       "      <td>59437.000000</td>\n",
       "      <td>59507.000000</td>\n",
       "    </tr>\n",
       "    <tr>\n",
       "      <th>mean</th>\n",
       "      <td>134.265576</td>\n",
       "      <td>2687.176706</td>\n",
       "      <td>3814.856456</td>\n",
       "      <td>134.196282</td>\n",
       "      <td>135.235966</td>\n",
       "      <td>136.555222</td>\n",
       "      <td>140.917765</td>\n",
       "      <td>143.758381</td>\n",
       "    </tr>\n",
       "    <tr>\n",
       "      <th>std</th>\n",
       "      <td>72.605709</td>\n",
       "      <td>146.055739</td>\n",
       "      <td>2212.007033</td>\n",
       "      <td>1567.663696</td>\n",
       "      <td>1603.403984</td>\n",
       "      <td>1640.007194</td>\n",
       "      <td>1671.862359</td>\n",
       "      <td>1710.782658</td>\n",
       "    </tr>\n",
       "    <tr>\n",
       "      <th>min</th>\n",
       "      <td>4.000000</td>\n",
       "      <td>2501.000000</td>\n",
       "      <td>511.000000</td>\n",
       "      <td>-1796.000000</td>\n",
       "      <td>-3161.000000</td>\n",
       "      <td>-3225.000000</td>\n",
       "      <td>-1582.000000</td>\n",
       "      <td>-3396.000000</td>\n",
       "    </tr>\n",
       "    <tr>\n",
       "      <th>25%</th>\n",
       "      <td>74.000000</td>\n",
       "      <td>2562.000000</td>\n",
       "      <td>684.000000</td>\n",
       "      <td>0.000000</td>\n",
       "      <td>0.000000</td>\n",
       "      <td>0.000000</td>\n",
       "      <td>0.000000</td>\n",
       "      <td>0.000000</td>\n",
       "    </tr>\n",
       "    <tr>\n",
       "      <th>50%</th>\n",
       "      <td>136.000000</td>\n",
       "      <td>2630.000000</td>\n",
       "      <td>5142.000000</td>\n",
       "      <td>0.090000</td>\n",
       "      <td>0.080000</td>\n",
       "      <td>0.080000</td>\n",
       "      <td>0.100000</td>\n",
       "      <td>0.070000</td>\n",
       "    </tr>\n",
       "    <tr>\n",
       "      <th>75%</th>\n",
       "      <td>195.000000</td>\n",
       "      <td>2775.000000</td>\n",
       "      <td>5511.000000</td>\n",
       "      <td>8.340000</td>\n",
       "      <td>8.460000</td>\n",
       "      <td>8.430000</td>\n",
       "      <td>9.000000</td>\n",
       "      <td>9.000000</td>\n",
       "    </tr>\n",
       "    <tr>\n",
       "      <th>max</th>\n",
       "      <td>276.000000</td>\n",
       "      <td>2961.000000</td>\n",
       "      <td>5911.000000</td>\n",
       "      <td>176405.000000</td>\n",
       "      <td>181137.000000</td>\n",
       "      <td>185960.000000</td>\n",
       "      <td>190873.000000</td>\n",
       "      <td>195875.000000</td>\n",
       "    </tr>\n",
       "  </tbody>\n",
       "</table>\n",
       "</div>"
      ],
      "text/plain": [
       "          Area Code     Item Code  Element Code          Y2014          Y2015  \\\n",
       "count  60943.000000  60943.000000  60943.000000   59354.000000   59395.000000   \n",
       "mean     134.265576   2687.176706   3814.856456     134.196282     135.235966   \n",
       "std       72.605709    146.055739   2212.007033    1567.663696    1603.403984   \n",
       "min        4.000000   2501.000000    511.000000   -1796.000000   -3161.000000   \n",
       "25%       74.000000   2562.000000    684.000000       0.000000       0.000000   \n",
       "50%      136.000000   2630.000000   5142.000000       0.090000       0.080000   \n",
       "75%      195.000000   2775.000000   5511.000000       8.340000       8.460000   \n",
       "max      276.000000   2961.000000   5911.000000  176405.000000  181137.000000   \n",
       "\n",
       "               Y2016          Y2017          Y2018  \n",
       "count   59408.000000   59437.000000   59507.000000  \n",
       "mean      136.555222     140.917765     143.758381  \n",
       "std      1640.007194    1671.862359    1710.782658  \n",
       "min     -3225.000000   -1582.000000   -3396.000000  \n",
       "25%         0.000000       0.000000       0.000000  \n",
       "50%         0.080000       0.100000       0.070000  \n",
       "75%         8.430000       9.000000       9.000000  \n",
       "max    185960.000000  190873.000000  195875.000000  "
      ]
     },
     "execution_count": 39,
     "metadata": {},
     "output_type": "execute_result"
    }
   ],
   "source": [
    "df."
   ]
  },
  {
   "cell_type": "code",
   "execution_count": 45,
   "id": "7ef5fa7c",
   "metadata": {},
   "outputs": [
    {
     "data": {
      "text/plain": [
       "array([[nan, nan],\n",
       "       [nan,  1.]])"
      ]
     },
     "execution_count": 45,
     "metadata": {},
     "output_type": "execute_result"
    }
   ],
   "source": [
    "r = np.corrcoef(, )\n",
    "r"
   ]
  },
  {
   "cell_type": "code",
   "execution_count": 46,
   "id": "729e63be",
   "metadata": {},
   "outputs": [
    {
     "name": "stdout",
     "output_type": "stream",
     "text": [
      "0.024278571953519554\n"
     ]
    }
   ],
   "source": [
    "print(df['Y2018'].corr(df['Element Code']))\n",
    " "
   ]
  },
  {
   "cell_type": "code",
   "execution_count": 47,
   "id": "4aeb62ac",
   "metadata": {},
   "outputs": [
    {
     "name": "stdout",
     "output_type": "stream",
     "text": [
      "0.024254007760045722\n"
     ]
    }
   ],
   "source": [
    "print(df['Y2017'].corr(df['Element Code']))"
   ]
  },
  {
   "cell_type": "code",
   "execution_count": 48,
   "id": "61779395",
   "metadata": {},
   "outputs": [
    {
     "name": "stdout",
     "output_type": "stream",
     "text": [
      "0.023889199301639925\n"
     ]
    }
   ],
   "source": [
    "print(df['Y2015'].corr(df['Element Code']))"
   ]
  },
  {
   "cell_type": "code",
   "execution_count": 49,
   "id": "c0269a52",
   "metadata": {},
   "outputs": [
    {
     "name": "stdout",
     "output_type": "stream",
     "text": [
      "0.023443997584961428\n"
     ]
    }
   ],
   "source": [
    "print(df['Y2016'].corr(df['Element Code']))"
   ]
  },
  {
   "cell_type": "code",
   "execution_count": 50,
   "id": "cb7ed276",
   "metadata": {},
   "outputs": [
    {
     "name": "stdout",
     "output_type": "stream",
     "text": [
      "0.024456819495221795\n"
     ]
    }
   ],
   "source": [
    "print(df['Y2014'].corr(df['Element Code']))"
   ]
  },
  {
   "cell_type": "code",
   "execution_count": 51,
   "id": "5b3106b6",
   "metadata": {},
   "outputs": [],
   "source": [
    "import_quan = df.groupby('Element')"
   ]
  },
  {
   "cell_type": "code",
   "execution_count": 52,
   "id": "145ef958",
   "metadata": {},
   "outputs": [
    {
     "data": {
      "text/plain": [
       "<pandas.core.groupby.generic.DataFrameGroupBy object at 0x0000013CA8097EE0>"
      ]
     },
     "execution_count": 52,
     "metadata": {},
     "output_type": "execute_result"
    }
   ],
   "source": [
    "import_quan"
   ]
  },
  {
   "cell_type": "code",
   "execution_count": 53,
   "id": "88d3747b",
   "metadata": {},
   "outputs": [
    {
     "data": {
      "text/plain": [
       "Area Code                                                  688174\n",
       "Area            AlgeriaAlgeriaAlgeriaAlgeriaAlgeriaAlgeriaAlge...\n",
       "Item Code                                                13795966\n",
       "Item            Cereals - Excluding BeerWheat and productsRice...\n",
       "Element Code                                             28834929\n",
       "Element         Import QuantityImport QuantityImport QuantityI...\n",
       "Unit            1000 tonnes1000 tonnes1000 tonnes1000 tonnes10...\n",
       "Y2014                                                   274144.48\n",
       "Y2015                                                   267018.46\n",
       "Y2016                                                   286582.78\n",
       "Y2017                                                   294559.09\n",
       "Y2018                                                   287997.09\n",
       "dtype: object"
      ]
     },
     "execution_count": 53,
     "metadata": {},
     "output_type": "execute_result"
    }
   ],
   "source": [
    "import_quan.get_group('Import Quantity').sum()"
   ]
  },
  {
   "cell_type": "code",
   "execution_count": 54,
   "id": "58b72f6e",
   "metadata": {},
   "outputs": [
    {
     "data": {
      "text/plain": [
       "Area Code                                                  526751\n",
       "Area            AlgeriaAlgeriaAlgeriaAlgeriaAlgeriaAlgeriaAlge...\n",
       "Item Code                                                10450053\n",
       "Item            Cereals - Excluding BeerWheat and productsRice...\n",
       "Element Code                                             21388191\n",
       "Element         ProductionProductionProductionProductionProduc...\n",
       "Unit            1000 tonnes1000 tonnes1000 tonnes1000 tonnes10...\n",
       "Y2014                                                  1931287.75\n",
       "Y2015                                                  1947019.39\n",
       "Y2016                                                  1943537.15\n",
       "Y2017                                                  2030056.89\n",
       "Y2018                                                  2075072.89\n",
       "dtype: object"
      ]
     },
     "execution_count": 54,
     "metadata": {},
     "output_type": "execute_result"
    }
   ],
   "source": [
    "import_quan.get_group('Production').sum()"
   ]
  },
  {
   "cell_type": "code",
   "execution_count": 70,
   "id": "2efd54af",
   "metadata": {},
   "outputs": [],
   "source": [
    "import_quan1 = df.groupby(['Area','Element'])\n"
   ]
  },
  {
   "cell_type": "code",
   "execution_count": 72,
   "id": "326ab4d1",
   "metadata": {},
   "outputs": [
    {
     "data": {
      "text/plain": [
       "Area Code                                                     448\n",
       "Area            AlgeriaAlgeriaAlgeriaAlgeriaAlgeriaAlgeriaAlge...\n",
       "Item Code                                                  301030\n",
       "Item            Cereals - Excluding BeerWheat and productsRice...\n",
       "Element Code                                               628432\n",
       "Element         Import QuantityImport QuantityImport QuantityI...\n",
       "Unit            1000 tonnes1000 tonnes1000 tonnes1000 tonnes10...\n",
       "Y2014                                                    34940.12\n",
       "Y2015                                                    37841.91\n",
       "Y2016                                                    36736.08\n",
       "Y2017                                                    36059.29\n",
       "Y2018                                                    36238.29\n",
       "dtype: object"
      ]
     },
     "execution_count": 72,
     "metadata": {},
     "output_type": "execute_result"
    }
   ],
   "source": [
    "# Answer 19 = 36238.29\n",
    "import_quan1.get_group(('Algeria', 'Import Quantity')).sum()"
   ]
  },
  {
   "cell_type": "code",
   "execution_count": 77,
   "id": "6b6173e7",
   "metadata": {},
   "outputs": [],
   "source": [
    "answer_18 = df.groupby(['Element','Y2018'], sort=False)\n"
   ]
  },
  {
   "cell_type": "code",
   "execution_count": 78,
   "id": "afc1ac30",
   "metadata": {},
   "outputs": [
    {
     "data": {
      "text/html": [
       "<div>\n",
       "<style scoped>\n",
       "    .dataframe tbody tr th:only-of-type {\n",
       "        vertical-align: middle;\n",
       "    }\n",
       "\n",
       "    .dataframe tbody tr th {\n",
       "        vertical-align: top;\n",
       "    }\n",
       "\n",
       "    .dataframe thead th {\n",
       "        text-align: right;\n",
       "    }\n",
       "</style>\n",
       "<table border=\"1\" class=\"dataframe\">\n",
       "  <thead>\n",
       "    <tr style=\"text-align: right;\">\n",
       "      <th></th>\n",
       "      <th></th>\n",
       "      <th>Area Code</th>\n",
       "      <th>Area</th>\n",
       "      <th>Item Code</th>\n",
       "      <th>Item</th>\n",
       "      <th>Element Code</th>\n",
       "      <th>Unit</th>\n",
       "      <th>Y2014</th>\n",
       "      <th>Y2015</th>\n",
       "      <th>Y2016</th>\n",
       "      <th>Y2017</th>\n",
       "    </tr>\n",
       "    <tr>\n",
       "      <th>Element</th>\n",
       "      <th>Y2018</th>\n",
       "      <th></th>\n",
       "      <th></th>\n",
       "      <th></th>\n",
       "      <th></th>\n",
       "      <th></th>\n",
       "      <th></th>\n",
       "      <th></th>\n",
       "      <th></th>\n",
       "      <th></th>\n",
       "      <th></th>\n",
       "    </tr>\n",
       "  </thead>\n",
       "  <tbody>\n",
       "    <tr>\n",
       "      <th>Total Population - Both sexes</th>\n",
       "      <th>42228.00</th>\n",
       "      <td>4</td>\n",
       "      <td>Algeria</td>\n",
       "      <td>2501</td>\n",
       "      <td>Population</td>\n",
       "      <td>511</td>\n",
       "      <td>1000 persons</td>\n",
       "      <td>38924.00</td>\n",
       "      <td>39728.00</td>\n",
       "      <td>40551.00</td>\n",
       "      <td>41389.00</td>\n",
       "    </tr>\n",
       "    <tr>\n",
       "      <th>Domestic supply quantity</th>\n",
       "      <th>0.00</th>\n",
       "      <td>276</td>\n",
       "      <td>Zimbabwe</td>\n",
       "      <td>2961</td>\n",
       "      <td>Yams</td>\n",
       "      <td>5301</td>\n",
       "      <td>1000 tonnes</td>\n",
       "      <td>147.00</td>\n",
       "      <td>47.00</td>\n",
       "      <td>29.00</td>\n",
       "      <td>17.00</td>\n",
       "    </tr>\n",
       "    <tr>\n",
       "      <th>Food supply (kcal/capita/day)</th>\n",
       "      <th>3322.00</th>\n",
       "      <td>4</td>\n",
       "      <td>Algeria</td>\n",
       "      <td>2901</td>\n",
       "      <td>Grand Total</td>\n",
       "      <td>664</td>\n",
       "      <td>kcal/capita/day</td>\n",
       "      <td>3377.00</td>\n",
       "      <td>3379.00</td>\n",
       "      <td>3372.00</td>\n",
       "      <td>3341.00</td>\n",
       "    </tr>\n",
       "    <tr>\n",
       "      <th>Protein supply quantity (g/capita/day)</th>\n",
       "      <th>91.83</th>\n",
       "      <td>4</td>\n",
       "      <td>Algeria</td>\n",
       "      <td>2901</td>\n",
       "      <td>Grand Total</td>\n",
       "      <td>674</td>\n",
       "      <td>g/capita/day</td>\n",
       "      <td>94.90</td>\n",
       "      <td>94.35</td>\n",
       "      <td>94.72</td>\n",
       "      <td>92.82</td>\n",
       "    </tr>\n",
       "    <tr>\n",
       "      <th>Fat supply quantity (g/capita/day)</th>\n",
       "      <th>77.28</th>\n",
       "      <td>4</td>\n",
       "      <td>Algeria</td>\n",
       "      <td>2901</td>\n",
       "      <td>Grand Total</td>\n",
       "      <td>684</td>\n",
       "      <td>g/capita/day</td>\n",
       "      <td>80.06</td>\n",
       "      <td>79.36</td>\n",
       "      <td>77.40</td>\n",
       "      <td>80.19</td>\n",
       "    </tr>\n",
       "    <tr>\n",
       "      <th>...</th>\n",
       "      <th>...</th>\n",
       "      <td>...</td>\n",
       "      <td>...</td>\n",
       "      <td>...</td>\n",
       "      <td>...</td>\n",
       "      <td>...</td>\n",
       "      <td>...</td>\n",
       "      <td>...</td>\n",
       "      <td>...</td>\n",
       "      <td>...</td>\n",
       "      <td>...</td>\n",
       "    </tr>\n",
       "    <tr>\n",
       "      <th>Import Quantity</th>\n",
       "      <th>20.79</th>\n",
       "      <td>181</td>\n",
       "      <td>Zimbabwe</td>\n",
       "      <td>2763</td>\n",
       "      <td>Pelagic Fish</td>\n",
       "      <td>5611</td>\n",
       "      <td>1000 tonnes</td>\n",
       "      <td>22.57</td>\n",
       "      <td>26.35</td>\n",
       "      <td>24.54</td>\n",
       "      <td>20.79</td>\n",
       "    </tr>\n",
       "    <tr>\n",
       "      <th>Domestic supply quantity</th>\n",
       "      <th>19.41</th>\n",
       "      <td>181</td>\n",
       "      <td>Zimbabwe</td>\n",
       "      <td>2763</td>\n",
       "      <td>Pelagic Fish</td>\n",
       "      <td>5301</td>\n",
       "      <td>1000 tonnes</td>\n",
       "      <td>22.54</td>\n",
       "      <td>26.35</td>\n",
       "      <td>23.82</td>\n",
       "      <td>19.41</td>\n",
       "    </tr>\n",
       "    <tr>\n",
       "      <th>Food</th>\n",
       "      <th>18.76</th>\n",
       "      <td>181</td>\n",
       "      <td>Zimbabwe</td>\n",
       "      <td>2763</td>\n",
       "      <td>Pelagic Fish</td>\n",
       "      <td>5142</td>\n",
       "      <td>1000 tonnes</td>\n",
       "      <td>15.29</td>\n",
       "      <td>19.31</td>\n",
       "      <td>19.45</td>\n",
       "      <td>18.76</td>\n",
       "    </tr>\n",
       "    <tr>\n",
       "      <th>Domestic supply quantity</th>\n",
       "      <th>0.99</th>\n",
       "      <td>181</td>\n",
       "      <td>Zimbabwe</td>\n",
       "      <td>2764</td>\n",
       "      <td>Marine Fish, Other</td>\n",
       "      <td>5301</td>\n",
       "      <td>1000 tonnes</td>\n",
       "      <td>0.54</td>\n",
       "      <td>0.48</td>\n",
       "      <td>0.60</td>\n",
       "      <td>0.99</td>\n",
       "    </tr>\n",
       "    <tr>\n",
       "      <th>Food</th>\n",
       "      <th>0.99</th>\n",
       "      <td>181</td>\n",
       "      <td>Zimbabwe</td>\n",
       "      <td>2764</td>\n",
       "      <td>Marine Fish, Other</td>\n",
       "      <td>5142</td>\n",
       "      <td>1000 tonnes</td>\n",
       "      <td>0.54</td>\n",
       "      <td>0.48</td>\n",
       "      <td>0.60</td>\n",
       "      <td>0.99</td>\n",
       "    </tr>\n",
       "  </tbody>\n",
       "</table>\n",
       "<p>9254 rows × 10 columns</p>\n",
       "</div>"
      ],
      "text/plain": [
       "                                                 Area Code      Area  \\\n",
       "Element                                Y2018                           \n",
       "Total Population - Both sexes          42228.00          4   Algeria   \n",
       "Domestic supply quantity               0.00            276  Zimbabwe   \n",
       "Food supply (kcal/capita/day)          3322.00           4   Algeria   \n",
       "Protein supply quantity (g/capita/day) 91.83             4   Algeria   \n",
       "Fat supply quantity (g/capita/day)     77.28             4   Algeria   \n",
       "...                                                    ...       ...   \n",
       "Import Quantity                        20.79           181  Zimbabwe   \n",
       "Domestic supply quantity               19.41           181  Zimbabwe   \n",
       "Food                                   18.76           181  Zimbabwe   \n",
       "Domestic supply quantity               0.99            181  Zimbabwe   \n",
       "Food                                   0.99            181  Zimbabwe   \n",
       "\n",
       "                                                 Item Code  \\\n",
       "Element                                Y2018                 \n",
       "Total Population - Both sexes          42228.00       2501   \n",
       "Domestic supply quantity               0.00           2961   \n",
       "Food supply (kcal/capita/day)          3322.00        2901   \n",
       "Protein supply quantity (g/capita/day) 91.83          2901   \n",
       "Fat supply quantity (g/capita/day)     77.28          2901   \n",
       "...                                                    ...   \n",
       "Import Quantity                        20.79          2763   \n",
       "Domestic supply quantity               19.41          2763   \n",
       "Food                                   18.76          2763   \n",
       "Domestic supply quantity               0.99           2764   \n",
       "Food                                   0.99           2764   \n",
       "\n",
       "                                                               Item  \\\n",
       "Element                                Y2018                          \n",
       "Total Population - Both sexes          42228.00          Population   \n",
       "Domestic supply quantity               0.00                    Yams   \n",
       "Food supply (kcal/capita/day)          3322.00          Grand Total   \n",
       "Protein supply quantity (g/capita/day) 91.83            Grand Total   \n",
       "Fat supply quantity (g/capita/day)     77.28            Grand Total   \n",
       "...                                                             ...   \n",
       "Import Quantity                        20.79           Pelagic Fish   \n",
       "Domestic supply quantity               19.41           Pelagic Fish   \n",
       "Food                                   18.76           Pelagic Fish   \n",
       "Domestic supply quantity               0.99      Marine Fish, Other   \n",
       "Food                                   0.99      Marine Fish, Other   \n",
       "\n",
       "                                                 Element Code  \\\n",
       "Element                                Y2018                    \n",
       "Total Population - Both sexes          42228.00           511   \n",
       "Domestic supply quantity               0.00              5301   \n",
       "Food supply (kcal/capita/day)          3322.00            664   \n",
       "Protein supply quantity (g/capita/day) 91.83              674   \n",
       "Fat supply quantity (g/capita/day)     77.28              684   \n",
       "...                                                       ...   \n",
       "Import Quantity                        20.79             5611   \n",
       "Domestic supply quantity               19.41             5301   \n",
       "Food                                   18.76             5142   \n",
       "Domestic supply quantity               0.99              5301   \n",
       "Food                                   0.99              5142   \n",
       "\n",
       "                                                            Unit     Y2014  \\\n",
       "Element                                Y2018                                 \n",
       "Total Population - Both sexes          42228.00     1000 persons  38924.00   \n",
       "Domestic supply quantity               0.00          1000 tonnes    147.00   \n",
       "Food supply (kcal/capita/day)          3322.00   kcal/capita/day   3377.00   \n",
       "Protein supply quantity (g/capita/day) 91.83        g/capita/day     94.90   \n",
       "Fat supply quantity (g/capita/day)     77.28        g/capita/day     80.06   \n",
       "...                                                          ...       ...   \n",
       "Import Quantity                        20.79         1000 tonnes     22.57   \n",
       "Domestic supply quantity               19.41         1000 tonnes     22.54   \n",
       "Food                                   18.76         1000 tonnes     15.29   \n",
       "Domestic supply quantity               0.99          1000 tonnes      0.54   \n",
       "Food                                   0.99          1000 tonnes      0.54   \n",
       "\n",
       "                                                    Y2015     Y2016     Y2017  \n",
       "Element                                Y2018                                   \n",
       "Total Population - Both sexes          42228.00  39728.00  40551.00  41389.00  \n",
       "Domestic supply quantity               0.00         47.00     29.00     17.00  \n",
       "Food supply (kcal/capita/day)          3322.00    3379.00   3372.00   3341.00  \n",
       "Protein supply quantity (g/capita/day) 91.83        94.35     94.72     92.82  \n",
       "Fat supply quantity (g/capita/day)     77.28        79.36     77.40     80.19  \n",
       "...                                                   ...       ...       ...  \n",
       "Import Quantity                        20.79        26.35     24.54     20.79  \n",
       "Domestic supply quantity               19.41        26.35     23.82     19.41  \n",
       "Food                                   18.76        19.31     19.45     18.76  \n",
       "Domestic supply quantity               0.99          0.48      0.60      0.99  \n",
       "Food                                   0.99          0.48      0.60      0.99  \n",
       "\n",
       "[9254 rows x 10 columns]"
      ]
     },
     "execution_count": 78,
     "metadata": {},
     "output_type": "execute_result"
    }
   ],
   "source": [
    "answer_18.agg('max')"
   ]
  },
  {
   "cell_type": "code",
   "execution_count": 79,
   "id": "33015d4e",
   "metadata": {},
   "outputs": [],
   "source": [
    "# answer i also failed to get at the quiz\n",
    "das = df.groupby('Item')"
   ]
  },
  {
   "cell_type": "code",
   "execution_count": 82,
   "id": "e1eb7b19",
   "metadata": {},
   "outputs": [
    {
     "data": {
      "text/plain": [
       "Area Code                                                   85279\n",
       "Area            AlgeriaAlgeriaAlgeriaAlgeriaAlgeriaAlgeriaAlge...\n",
       "Item Code                                                 1882494\n",
       "Item            Animal fatsAnimal fatsAnimal fatsAnimal fatsAn...\n",
       "Element Code                                              2567303\n",
       "Element         ProductionImport QuantityStock VariationExport...\n",
       "Unit            1000 tonnes1000 tonnes1000 tonnes1000 tonnes10...\n",
       "Y2014                                                   209460.54\n",
       "Y2015                                                   200675.72\n",
       "Y2016                                                   183314.22\n",
       "Y2017                                                   269617.53\n",
       "Y2018                                                   269648.27\n",
       "dtype: object"
      ]
     },
     "execution_count": 82,
     "metadata": {},
     "output_type": "execute_result"
    }
   ],
   "source": [
    "# the answer\n",
    "das.get_group('Animal fats').agg('sum')"
   ]
  },
  {
   "cell_type": "code",
   "execution_count": null,
   "id": "bb5e16ed",
   "metadata": {},
   "outputs": [],
   "source": []
  }
 ],
 "metadata": {
  "kernelspec": {
   "display_name": "Python 3",
   "language": "python",
   "name": "python3"
  },
  "language_info": {
   "codemirror_mode": {
    "name": "ipython",
    "version": 3
   },
   "file_extension": ".py",
   "mimetype": "text/x-python",
   "name": "python",
   "nbconvert_exporter": "python",
   "pygments_lexer": "ipython3",
   "version": "3.8.8"
  }
 },
 "nbformat": 4,
 "nbformat_minor": 5
}
